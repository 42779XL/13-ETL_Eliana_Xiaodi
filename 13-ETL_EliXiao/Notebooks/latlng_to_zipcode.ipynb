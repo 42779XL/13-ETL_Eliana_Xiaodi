{
 "cells": [
  {
   "cell_type": "markdown",
   "metadata": {},
   "source": [
    "### converting lat lng to us zip code using python"
   ]
  },
  {
   "cell_type": "code",
   "execution_count": 7,
   "metadata": {},
   "outputs": [],
   "source": [
    "import pandas as pd\n",
    "import os\n",
    "\n",
    "from uszipcode import SearchEngine, Zipcode\n",
    "import numpy as np"
   ]
  },
  {
   "cell_type": "code",
   "execution_count": 14,
   "metadata": {},
   "outputs": [
    {
     "data": {
      "text/plain": [
       "9023"
      ]
     },
     "execution_count": 14,
     "metadata": {},
     "output_type": "execute_result"
    }
   ],
   "source": [
    "# Read in .csv file into a df\n",
    "file = os.path.join(\"..\",\"Resources\",\"Detailed_Info_Posting_Add.csv\")\n",
    "info_df = pd.read_csv(file)\n",
    "info_df.head()\n",
    "len(info_df.index)"
   ]
  },
  {
   "cell_type": "code",
   "execution_count": 15,
   "metadata": {},
   "outputs": [
    {
     "data": {
      "text/plain": [
       "9023"
      ]
     },
     "execution_count": 15,
     "metadata": {},
     "output_type": "execute_result"
    }
   ],
   "source": [
    "Zipcode = []\n",
    "rows = len(info_df.index)\n",
    "\n",
    "# Iterate df decode latlng into zipcode \n",
    "search = SearchEngine()\n",
    "\n",
    "for i in range(0, rows):\n",
    "    result = search.by_coordinates(info_df['latitude'][i], info_df['longitude'][i], radius=5, returns=1)\n",
    "\n",
    "    for zipcode in result:\n",
    "        Zipcode.append(zipcode.zipcode)\n",
    "    \n",
    "len(Zipcode)"
   ]
  },
  {
   "cell_type": "code",
   "execution_count": 29,
   "metadata": {
    "scrolled": true
   },
   "outputs": [
    {
     "data": {
      "text/plain": [
       "Index(['id', 'name', 'host_id', 'host_name', 'neighbourhood_group',\n",
       "       'neighbourhood', 'latitude', 'longitude', 'room_type', 'price',\n",
       "       'minimum_nights', 'number_of_reviews', 'last_review',\n",
       "       'reviews_per_month', 'calculated_host_listings_count',\n",
       "       'availability_365', 'zipcode'],\n",
       "      dtype='object')"
      ]
     },
     "execution_count": 29,
     "metadata": {},
     "output_type": "execute_result"
    }
   ],
   "source": [
    "# Add zipcode column to the df\n",
    "info_df['zipcode'] = Zipcode\n",
    "info_df.head()\n",
    "info_df.columns"
   ]
  },
  {
   "cell_type": "code",
   "execution_count": 27,
   "metadata": {},
   "outputs": [],
   "source": [
    "# convert new df to new .csv file\n",
    "info_df.to_csv(r'..\\Resources\\lodge.csv', index=False)"
   ]
  },
  {
   "cell_type": "code",
   "execution_count": null,
   "metadata": {},
   "outputs": [],
   "source": []
  },
  {
   "cell_type": "markdown",
   "metadata": {},
   "source": [
    "### Create a new table by merging 2 tables"
   ]
  },
  {
   "cell_type": "code",
   "execution_count": 9,
   "metadata": {},
   "outputs": [
    {
     "data": {
      "text/plain": [
       "2487920"
      ]
     },
     "execution_count": 9,
     "metadata": {},
     "output_type": "execute_result"
    }
   ],
   "source": [
    "# Read in a new .csv file into a df\n",
    "price_file = os.path.join(\"..\",\"Resources\",\"Detailed_Price_Listing_Postings.csv\")\n",
    "price_df = pd.read_csv(price_file)\n",
    "price_df.head()\n",
    "len(price_df.index)"
   ]
  },
  {
   "cell_type": "code",
   "execution_count": 19,
   "metadata": {},
   "outputs": [
    {
     "data": {
      "text/html": [
       "<div>\n",
       "<style scoped>\n",
       "    .dataframe tbody tr th:only-of-type {\n",
       "        vertical-align: middle;\n",
       "    }\n",
       "\n",
       "    .dataframe tbody tr th {\n",
       "        vertical-align: top;\n",
       "    }\n",
       "\n",
       "    .dataframe thead th {\n",
       "        text-align: right;\n",
       "    }\n",
       "</style>\n",
       "<table border=\"1\" class=\"dataframe\">\n",
       "  <thead>\n",
       "    <tr style=\"text-align: right;\">\n",
       "      <th></th>\n",
       "      <th>id</th>\n",
       "      <th>date</th>\n",
       "      <th>available</th>\n",
       "      <th>price</th>\n",
       "      <th>adjusted_price</th>\n",
       "      <th>minimum_nights</th>\n",
       "      <th>maximum_nights</th>\n",
       "    </tr>\n",
       "  </thead>\n",
       "  <tbody>\n",
       "    <tr>\n",
       "      <th>0</th>\n",
       "      <td>2318</td>\n",
       "      <td>2019-11-21</td>\n",
       "      <td>f</td>\n",
       "      <td>$99.00</td>\n",
       "      <td>$99.00</td>\n",
       "      <td>7.0</td>\n",
       "      <td>1000.0</td>\n",
       "    </tr>\n",
       "    <tr>\n",
       "      <th>1</th>\n",
       "      <td>202251</td>\n",
       "      <td>2019-11-21</td>\n",
       "      <td>f</td>\n",
       "      <td>$175.00</td>\n",
       "      <td>$175.00</td>\n",
       "      <td>30.0</td>\n",
       "      <td>150.0</td>\n",
       "    </tr>\n",
       "    <tr>\n",
       "      <th>2</th>\n",
       "      <td>202251</td>\n",
       "      <td>2019-11-22</td>\n",
       "      <td>f</td>\n",
       "      <td>$175.00</td>\n",
       "      <td>$175.00</td>\n",
       "      <td>30.0</td>\n",
       "      <td>150.0</td>\n",
       "    </tr>\n",
       "    <tr>\n",
       "      <th>3</th>\n",
       "      <td>202251</td>\n",
       "      <td>2019-11-23</td>\n",
       "      <td>f</td>\n",
       "      <td>$175.00</td>\n",
       "      <td>$175.00</td>\n",
       "      <td>30.0</td>\n",
       "      <td>150.0</td>\n",
       "    </tr>\n",
       "    <tr>\n",
       "      <th>4</th>\n",
       "      <td>202251</td>\n",
       "      <td>2019-11-24</td>\n",
       "      <td>f</td>\n",
       "      <td>$175.00</td>\n",
       "      <td>$175.00</td>\n",
       "      <td>30.0</td>\n",
       "      <td>150.0</td>\n",
       "    </tr>\n",
       "  </tbody>\n",
       "</table>\n",
       "</div>"
      ],
      "text/plain": [
       "       id        date available    price adjusted_price  minimum_nights  \\\n",
       "0    2318  2019-11-21         f   $99.00         $99.00             7.0   \n",
       "1  202251  2019-11-21         f  $175.00        $175.00            30.0   \n",
       "2  202251  2019-11-22         f  $175.00        $175.00            30.0   \n",
       "3  202251  2019-11-23         f  $175.00        $175.00            30.0   \n",
       "4  202251  2019-11-24         f  $175.00        $175.00            30.0   \n",
       "\n",
       "   maximum_nights  \n",
       "0          1000.0  \n",
       "1           150.0  \n",
       "2           150.0  \n",
       "3           150.0  \n",
       "4           150.0  "
      ]
     },
     "execution_count": 19,
     "metadata": {},
     "output_type": "execute_result"
    }
   ],
   "source": [
    "price_df_id = price_df.rename(columns={\"listing_id\":\"id\"})\n",
    "price_df_id.head()"
   ]
  },
  {
   "cell_type": "code",
   "execution_count": 28,
   "metadata": {},
   "outputs": [],
   "source": [
    "# convert df to a .csv file\n",
    "price_df_id.to_csv(r'..\\Resources\\price.csv', index=False)"
   ]
  },
  {
   "cell_type": "code",
   "execution_count": 22,
   "metadata": {},
   "outputs": [
    {
     "data": {
      "text/html": [
       "<div>\n",
       "<style scoped>\n",
       "    .dataframe tbody tr th:only-of-type {\n",
       "        vertical-align: middle;\n",
       "    }\n",
       "\n",
       "    .dataframe tbody tr th {\n",
       "        vertical-align: top;\n",
       "    }\n",
       "\n",
       "    .dataframe thead th {\n",
       "        text-align: right;\n",
       "    }\n",
       "</style>\n",
       "<table border=\"1\" class=\"dataframe\">\n",
       "  <thead>\n",
       "    <tr style=\"text-align: right;\">\n",
       "      <th></th>\n",
       "      <th>id</th>\n",
       "      <th>name</th>\n",
       "      <th>host_id</th>\n",
       "      <th>host_name</th>\n",
       "      <th>neighbourhood_group</th>\n",
       "      <th>neighbourhood</th>\n",
       "      <th>latitude</th>\n",
       "      <th>longitude</th>\n",
       "      <th>room_type</th>\n",
       "      <th>price_x</th>\n",
       "      <th>...</th>\n",
       "      <th>reviews_per_month</th>\n",
       "      <th>calculated_host_listings_count</th>\n",
       "      <th>availability_365</th>\n",
       "      <th>zipcode</th>\n",
       "      <th>date</th>\n",
       "      <th>available</th>\n",
       "      <th>price_y</th>\n",
       "      <th>adjusted_price</th>\n",
       "      <th>minimum_nights_y</th>\n",
       "      <th>maximum_nights</th>\n",
       "    </tr>\n",
       "  </thead>\n",
       "  <tbody>\n",
       "    <tr>\n",
       "      <th>0</th>\n",
       "      <td>2318</td>\n",
       "      <td>Casa Madrona - Urban Oasis 1 block from the park!</td>\n",
       "      <td>2536</td>\n",
       "      <td>Megan</td>\n",
       "      <td>Central Area</td>\n",
       "      <td>Madrona</td>\n",
       "      <td>47.61082</td>\n",
       "      <td>-122.29082</td>\n",
       "      <td>Entire home/apt</td>\n",
       "      <td>296</td>\n",
       "      <td>...</td>\n",
       "      <td>0.21</td>\n",
       "      <td>2</td>\n",
       "      <td>59</td>\n",
       "      <td>98122</td>\n",
       "      <td>2019-11-21</td>\n",
       "      <td>f</td>\n",
       "      <td>$99.00</td>\n",
       "      <td>$99.00</td>\n",
       "      <td>7.0</td>\n",
       "      <td>1000.0</td>\n",
       "    </tr>\n",
       "    <tr>\n",
       "      <th>1</th>\n",
       "      <td>2318</td>\n",
       "      <td>Casa Madrona - Urban Oasis 1 block from the park!</td>\n",
       "      <td>2536</td>\n",
       "      <td>Megan</td>\n",
       "      <td>Central Area</td>\n",
       "      <td>Madrona</td>\n",
       "      <td>47.61082</td>\n",
       "      <td>-122.29082</td>\n",
       "      <td>Entire home/apt</td>\n",
       "      <td>296</td>\n",
       "      <td>...</td>\n",
       "      <td>0.21</td>\n",
       "      <td>2</td>\n",
       "      <td>59</td>\n",
       "      <td>98122</td>\n",
       "      <td>2019-11-22</td>\n",
       "      <td>f</td>\n",
       "      <td>$99.00</td>\n",
       "      <td>$99.00</td>\n",
       "      <td>7.0</td>\n",
       "      <td>1000.0</td>\n",
       "    </tr>\n",
       "    <tr>\n",
       "      <th>2</th>\n",
       "      <td>2318</td>\n",
       "      <td>Casa Madrona - Urban Oasis 1 block from the park!</td>\n",
       "      <td>2536</td>\n",
       "      <td>Megan</td>\n",
       "      <td>Central Area</td>\n",
       "      <td>Madrona</td>\n",
       "      <td>47.61082</td>\n",
       "      <td>-122.29082</td>\n",
       "      <td>Entire home/apt</td>\n",
       "      <td>296</td>\n",
       "      <td>...</td>\n",
       "      <td>0.21</td>\n",
       "      <td>2</td>\n",
       "      <td>59</td>\n",
       "      <td>98122</td>\n",
       "      <td>2019-11-23</td>\n",
       "      <td>f</td>\n",
       "      <td>$99.00</td>\n",
       "      <td>$99.00</td>\n",
       "      <td>7.0</td>\n",
       "      <td>1000.0</td>\n",
       "    </tr>\n",
       "    <tr>\n",
       "      <th>3</th>\n",
       "      <td>2318</td>\n",
       "      <td>Casa Madrona - Urban Oasis 1 block from the park!</td>\n",
       "      <td>2536</td>\n",
       "      <td>Megan</td>\n",
       "      <td>Central Area</td>\n",
       "      <td>Madrona</td>\n",
       "      <td>47.61082</td>\n",
       "      <td>-122.29082</td>\n",
       "      <td>Entire home/apt</td>\n",
       "      <td>296</td>\n",
       "      <td>...</td>\n",
       "      <td>0.21</td>\n",
       "      <td>2</td>\n",
       "      <td>59</td>\n",
       "      <td>98122</td>\n",
       "      <td>2019-11-24</td>\n",
       "      <td>f</td>\n",
       "      <td>$180.00</td>\n",
       "      <td>$180.00</td>\n",
       "      <td>7.0</td>\n",
       "      <td>1000.0</td>\n",
       "    </tr>\n",
       "    <tr>\n",
       "      <th>4</th>\n",
       "      <td>2318</td>\n",
       "      <td>Casa Madrona - Urban Oasis 1 block from the park!</td>\n",
       "      <td>2536</td>\n",
       "      <td>Megan</td>\n",
       "      <td>Central Area</td>\n",
       "      <td>Madrona</td>\n",
       "      <td>47.61082</td>\n",
       "      <td>-122.29082</td>\n",
       "      <td>Entire home/apt</td>\n",
       "      <td>296</td>\n",
       "      <td>...</td>\n",
       "      <td>0.21</td>\n",
       "      <td>2</td>\n",
       "      <td>59</td>\n",
       "      <td>98122</td>\n",
       "      <td>2019-11-25</td>\n",
       "      <td>f</td>\n",
       "      <td>$152.00</td>\n",
       "      <td>$152.00</td>\n",
       "      <td>7.0</td>\n",
       "      <td>1000.0</td>\n",
       "    </tr>\n",
       "  </tbody>\n",
       "</table>\n",
       "<p>5 rows × 23 columns</p>\n",
       "</div>"
      ],
      "text/plain": [
       "     id                                               name  host_id host_name  \\\n",
       "0  2318  Casa Madrona - Urban Oasis 1 block from the park!     2536     Megan   \n",
       "1  2318  Casa Madrona - Urban Oasis 1 block from the park!     2536     Megan   \n",
       "2  2318  Casa Madrona - Urban Oasis 1 block from the park!     2536     Megan   \n",
       "3  2318  Casa Madrona - Urban Oasis 1 block from the park!     2536     Megan   \n",
       "4  2318  Casa Madrona - Urban Oasis 1 block from the park!     2536     Megan   \n",
       "\n",
       "  neighbourhood_group neighbourhood  latitude  longitude        room_type  \\\n",
       "0        Central Area       Madrona  47.61082 -122.29082  Entire home/apt   \n",
       "1        Central Area       Madrona  47.61082 -122.29082  Entire home/apt   \n",
       "2        Central Area       Madrona  47.61082 -122.29082  Entire home/apt   \n",
       "3        Central Area       Madrona  47.61082 -122.29082  Entire home/apt   \n",
       "4        Central Area       Madrona  47.61082 -122.29082  Entire home/apt   \n",
       "\n",
       "   price_x  ...  reviews_per_month  calculated_host_listings_count  \\\n",
       "0      296  ...               0.21                               2   \n",
       "1      296  ...               0.21                               2   \n",
       "2      296  ...               0.21                               2   \n",
       "3      296  ...               0.21                               2   \n",
       "4      296  ...               0.21                               2   \n",
       "\n",
       "  availability_365  zipcode        date  available  price_y adjusted_price  \\\n",
       "0               59    98122  2019-11-21          f   $99.00         $99.00   \n",
       "1               59    98122  2019-11-22          f   $99.00         $99.00   \n",
       "2               59    98122  2019-11-23          f   $99.00         $99.00   \n",
       "3               59    98122  2019-11-24          f  $180.00        $180.00   \n",
       "4               59    98122  2019-11-25          f  $152.00        $152.00   \n",
       "\n",
       "  minimum_nights_y maximum_nights  \n",
       "0              7.0         1000.0  \n",
       "1              7.0         1000.0  \n",
       "2              7.0         1000.0  \n",
       "3              7.0         1000.0  \n",
       "4              7.0         1000.0  \n",
       "\n",
       "[5 rows x 23 columns]"
      ]
     },
     "execution_count": 22,
     "metadata": {},
     "output_type": "execute_result"
    }
   ],
   "source": [
    "traveler_df = pd.merge(info_df, price_df_id, on=\"id\", how=\"outer\")\n",
    "traveler_df.head()"
   ]
  },
  {
   "cell_type": "code",
   "execution_count": 26,
   "metadata": {},
   "outputs": [],
   "source": [
    "# convert info_df to a .csv file by giving a new name\n",
    "traveler_df.to_csv(r'..\\Resources\\travel_info.csv', index=False)"
   ]
  },
  {
   "cell_type": "code",
   "execution_count": null,
   "metadata": {},
   "outputs": [],
   "source": []
  }
 ],
 "metadata": {
  "kernelspec": {
   "display_name": "Python 3",
   "language": "python",
   "name": "python3"
  },
  "language_info": {
   "codemirror_mode": {
    "name": "ipython",
    "version": 3
   },
   "file_extension": ".py",
   "mimetype": "text/x-python",
   "name": "python",
   "nbconvert_exporter": "python",
   "pygments_lexer": "ipython3",
   "version": "3.7.3"
  }
 },
 "nbformat": 4,
 "nbformat_minor": 4
}
