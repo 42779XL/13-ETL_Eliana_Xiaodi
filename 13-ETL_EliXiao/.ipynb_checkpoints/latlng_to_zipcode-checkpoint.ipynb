{
 "cells": [
  {
   "cell_type": "markdown",
   "metadata": {},
   "source": [
    "### converting lat lng to us zip code using python"
   ]
  },
  {
   "cell_type": "code",
   "execution_count": 4,
   "metadata": {},
   "outputs": [],
   "source": [
    "import pandas as pd\n",
    "import os\n",
    "\n",
    "from uszipcode import SearchEngine, Zipcode\n",
    "import numpy as np"
   ]
  },
  {
   "cell_type": "code",
   "execution_count": 6,
   "metadata": {},
   "outputs": [
    {
     "data": {
      "text/plain": [
       "9023"
      ]
     },
     "execution_count": 6,
     "metadata": {},
     "output_type": "execute_result"
    }
   ],
   "source": [
    "# Read in .csv file into a df\n",
    "file = os.path.join(\"Resources\",\"Detailed_Info_Posting_Add.csv\")\n",
    "df = pd.read_csv(file)\n",
    "df.head()\n",
    "len(df.index)"
   ]
  },
  {
   "cell_type": "code",
   "execution_count": 7,
   "metadata": {},
   "outputs": [
    {
     "data": {
      "text/plain": [
       "9023"
      ]
     },
     "execution_count": 7,
     "metadata": {},
     "output_type": "execute_result"
    }
   ],
   "source": [
    "Zipcode = []\n",
    "rows = len(df.index)\n",
    "\n",
    "# Iterate df decode latlng into zipcode \n",
    "search = SearchEngine()\n",
    "\n",
    "for i in range(0, rows):\n",
    "    result = search.by_coordinates(df['latitude'][i], df['longitude'][i], radius=5, returns=1)\n",
    "\n",
    "    for zipcode in result:\n",
    "        Zipcode.append(zipcode.zipcode)\n",
    "    \n",
    "len(Zipcode)"
   ]
  },
  {
   "cell_type": "code",
   "execution_count": 8,
   "metadata": {
    "scrolled": true
   },
   "outputs": [],
   "source": [
    "# Add zipcode column to the df\n",
    "df['zipcode'] = Zipcode\n",
    "# df.head()"
   ]
  },
  {
   "cell_type": "code",
   "execution_count": 9,
   "metadata": {},
   "outputs": [],
   "source": [
    "# covert new df to new .csv file\n",
    "df.to_csv('lodge_ref.csv', index=False)"
   ]
  },
  {
   "cell_type": "code",
   "execution_count": null,
   "metadata": {},
   "outputs": [],
   "source": []
  }
 ],
 "metadata": {
  "kernelspec": {
   "display_name": "Python 3",
   "language": "python",
   "name": "python3"
  },
  "language_info": {
   "codemirror_mode": {
    "name": "ipython",
    "version": 3
   },
   "file_extension": ".py",
   "mimetype": "text/x-python",
   "name": "python",
   "nbconvert_exporter": "python",
   "pygments_lexer": "ipython3",
   "version": "3.7.3"
  }
 },
 "nbformat": 4,
 "nbformat_minor": 4
}
