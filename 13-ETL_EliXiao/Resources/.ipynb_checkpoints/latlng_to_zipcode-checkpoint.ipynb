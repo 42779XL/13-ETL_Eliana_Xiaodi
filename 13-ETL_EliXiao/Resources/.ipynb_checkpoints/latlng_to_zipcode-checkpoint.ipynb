{
 "cells": [
  {
   "cell_type": "markdown",
   "metadata": {},
   "source": [
    "### converting lat lng to us zip code using python"
   ]
  },
  {
   "cell_type": "code",
   "execution_count": 8,
   "metadata": {},
   "outputs": [],
   "source": [
    "import pandas as pd\n",
    "import os\n",
    "\n",
    "from uszipcode import SearchEngine, Zipcode\n",
    "import numpy as np"
   ]
  },
  {
   "cell_type": "code",
   "execution_count": 9,
   "metadata": {},
   "outputs": [
    {
     "data": {
      "text/plain": [
       "9023"
      ]
     },
     "execution_count": 9,
     "metadata": {},
     "output_type": "execute_result"
    }
   ],
   "source": [
    "# Read in .csv file into a df\n",
    "file = os.path.join(\"Detailed_Info_Posting_Add.csv\")\n",
    "df = pd.read_csv(file)\n",
    "df.head()\n",
    "len(df.index)"
   ]
  },
  {
   "cell_type": "code",
   "execution_count": 18,
   "metadata": {},
   "outputs": [
    {
     "data": {
      "text/plain": [
       "9023"
      ]
     },
     "execution_count": 18,
     "metadata": {},
     "output_type": "execute_result"
    }
   ],
   "source": [
    "Zipcode = []\n",
    "rows = len(df.index)\n",
    "\n",
    "# Iterate df decode latlng into zipcode \n",
    "search = SearchEngine()\n",
    "\n",
    "for i in range(0, rows):\n",
    "    result = search.by_coordinates(df['latitude'][i], df['longitude'][i], radius=5, returns=1)\n",
    "\n",
    "    for zipcode in result:\n",
    "        Zipcode.append(zipcode.zipcode)\n",
    "    \n",
    "len(Zipcode)"
   ]
  },
  {
   "cell_type": "code",
   "execution_count": 19,
   "metadata": {},
   "outputs": [
    {
     "data": {
      "text/html": [
       "<div>\n",
       "<style scoped>\n",
       "    .dataframe tbody tr th:only-of-type {\n",
       "        vertical-align: middle;\n",
       "    }\n",
       "\n",
       "    .dataframe tbody tr th {\n",
       "        vertical-align: top;\n",
       "    }\n",
       "\n",
       "    .dataframe thead th {\n",
       "        text-align: right;\n",
       "    }\n",
       "</style>\n",
       "<table border=\"1\" class=\"dataframe\">\n",
       "  <thead>\n",
       "    <tr style=\"text-align: right;\">\n",
       "      <th></th>\n",
       "      <th>id</th>\n",
       "      <th>name</th>\n",
       "      <th>host_id</th>\n",
       "      <th>host_name</th>\n",
       "      <th>neighbourhood_group</th>\n",
       "      <th>neighbourhood</th>\n",
       "      <th>latitude</th>\n",
       "      <th>longitude</th>\n",
       "      <th>room_type</th>\n",
       "      <th>price</th>\n",
       "      <th>minimum_nights</th>\n",
       "      <th>number_of_reviews</th>\n",
       "      <th>last_review</th>\n",
       "      <th>reviews_per_month</th>\n",
       "      <th>calculated_host_listings_count</th>\n",
       "      <th>availability_365</th>\n",
       "      <th>zipcode</th>\n",
       "    </tr>\n",
       "  </thead>\n",
       "  <tbody>\n",
       "    <tr>\n",
       "      <th>0</th>\n",
       "      <td>2318</td>\n",
       "      <td>Casa Madrona - Urban Oasis 1 block from the park!</td>\n",
       "      <td>2536</td>\n",
       "      <td>Megan</td>\n",
       "      <td>Central Area</td>\n",
       "      <td>Madrona</td>\n",
       "      <td>47.61082</td>\n",
       "      <td>-122.29082</td>\n",
       "      <td>Entire home/apt</td>\n",
       "      <td>296</td>\n",
       "      <td>7</td>\n",
       "      <td>29</td>\n",
       "      <td>2019-10-31</td>\n",
       "      <td>0.21</td>\n",
       "      <td>2</td>\n",
       "      <td>59</td>\n",
       "      <td>98122</td>\n",
       "    </tr>\n",
       "    <tr>\n",
       "      <th>1</th>\n",
       "      <td>5682</td>\n",
       "      <td>Cozy Studio, min. to downtown -WiFi</td>\n",
       "      <td>8993</td>\n",
       "      <td>Maddy</td>\n",
       "      <td>Delridge</td>\n",
       "      <td>South Delridge</td>\n",
       "      <td>47.52398</td>\n",
       "      <td>-122.35989</td>\n",
       "      <td>Entire home/apt</td>\n",
       "      <td>48</td>\n",
       "      <td>3</td>\n",
       "      <td>462</td>\n",
       "      <td>2018-11-24</td>\n",
       "      <td>3.92</td>\n",
       "      <td>1</td>\n",
       "      <td>0</td>\n",
       "      <td>98146</td>\n",
       "    </tr>\n",
       "    <tr>\n",
       "      <th>2</th>\n",
       "      <td>6606</td>\n",
       "      <td>Fab, private seattle urban cottage!</td>\n",
       "      <td>14942</td>\n",
       "      <td>Joyce</td>\n",
       "      <td>Other neighborhoods</td>\n",
       "      <td>Wallingford</td>\n",
       "      <td>47.65411</td>\n",
       "      <td>-122.33761</td>\n",
       "      <td>Entire home/apt</td>\n",
       "      <td>90</td>\n",
       "      <td>2</td>\n",
       "      <td>150</td>\n",
       "      <td>2019-09-28</td>\n",
       "      <td>1.19</td>\n",
       "      <td>3</td>\n",
       "      <td>49</td>\n",
       "      <td>98102</td>\n",
       "    </tr>\n",
       "    <tr>\n",
       "      <th>3</th>\n",
       "      <td>9419</td>\n",
       "      <td>Glorious sun room w/ memory foambed</td>\n",
       "      <td>30559</td>\n",
       "      <td>Angielena</td>\n",
       "      <td>Other neighborhoods</td>\n",
       "      <td>Georgetown</td>\n",
       "      <td>47.55062</td>\n",
       "      <td>-122.32014</td>\n",
       "      <td>Private room</td>\n",
       "      <td>62</td>\n",
       "      <td>2</td>\n",
       "      <td>146</td>\n",
       "      <td>2019-10-22</td>\n",
       "      <td>1.29</td>\n",
       "      <td>8</td>\n",
       "      <td>359</td>\n",
       "      <td>98108</td>\n",
       "    </tr>\n",
       "    <tr>\n",
       "      <th>4</th>\n",
       "      <td>9460</td>\n",
       "      <td>Downtown Convention Center B&amp;B -- Free Minibar</td>\n",
       "      <td>30832</td>\n",
       "      <td>Siena</td>\n",
       "      <td>Downtown</td>\n",
       "      <td>First Hill</td>\n",
       "      <td>47.61265</td>\n",
       "      <td>-122.32936</td>\n",
       "      <td>Private room</td>\n",
       "      <td>99</td>\n",
       "      <td>3</td>\n",
       "      <td>455</td>\n",
       "      <td>2019-11-09</td>\n",
       "      <td>3.65</td>\n",
       "      <td>4</td>\n",
       "      <td>138</td>\n",
       "      <td>98101</td>\n",
       "    </tr>\n",
       "  </tbody>\n",
       "</table>\n",
       "</div>"
      ],
      "text/plain": [
       "     id                                               name  host_id  \\\n",
       "0  2318  Casa Madrona - Urban Oasis 1 block from the park!     2536   \n",
       "1  5682                Cozy Studio, min. to downtown -WiFi     8993   \n",
       "2  6606                Fab, private seattle urban cottage!    14942   \n",
       "3  9419                Glorious sun room w/ memory foambed    30559   \n",
       "4  9460     Downtown Convention Center B&B -- Free Minibar    30832   \n",
       "\n",
       "   host_name  neighbourhood_group   neighbourhood  latitude  longitude  \\\n",
       "0      Megan         Central Area         Madrona  47.61082 -122.29082   \n",
       "1      Maddy             Delridge  South Delridge  47.52398 -122.35989   \n",
       "2      Joyce  Other neighborhoods     Wallingford  47.65411 -122.33761   \n",
       "3  Angielena  Other neighborhoods      Georgetown  47.55062 -122.32014   \n",
       "4      Siena             Downtown      First Hill  47.61265 -122.32936   \n",
       "\n",
       "         room_type  price  minimum_nights  number_of_reviews last_review  \\\n",
       "0  Entire home/apt    296               7                 29  2019-10-31   \n",
       "1  Entire home/apt     48               3                462  2018-11-24   \n",
       "2  Entire home/apt     90               2                150  2019-09-28   \n",
       "3     Private room     62               2                146  2019-10-22   \n",
       "4     Private room     99               3                455  2019-11-09   \n",
       "\n",
       "   reviews_per_month  calculated_host_listings_count  availability_365 zipcode  \n",
       "0               0.21                               2                59   98122  \n",
       "1               3.92                               1                 0   98146  \n",
       "2               1.19                               3                49   98102  \n",
       "3               1.29                               8               359   98108  \n",
       "4               3.65                               4               138   98101  "
      ]
     },
     "execution_count": 19,
     "metadata": {},
     "output_type": "execute_result"
    }
   ],
   "source": [
    "# Add zipcode column to the df\n",
    "df['zipcode'] = Zipcode\n",
    "df.head()"
   ]
  },
  {
   "cell_type": "code",
   "execution_count": 22,
   "metadata": {},
   "outputs": [],
   "source": [
    "# covert new df to new .csv file\n",
    "df.to_csv('lodge_ref.csv', index=False)"
   ]
  },
  {
   "cell_type": "code",
   "execution_count": null,
   "metadata": {},
   "outputs": [],
   "source": []
  }
 ],
 "metadata": {
  "kernelspec": {
   "display_name": "Python 3",
   "language": "python",
   "name": "python3"
  },
  "language_info": {
   "codemirror_mode": {
    "name": "ipython",
    "version": 3
   },
   "file_extension": ".py",
   "mimetype": "text/x-python",
   "name": "python",
   "nbconvert_exporter": "python",
   "pygments_lexer": "ipython3",
   "version": "3.7.3"
  }
 },
 "nbformat": 4,
 "nbformat_minor": 4
}
